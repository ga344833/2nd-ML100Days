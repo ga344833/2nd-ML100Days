{
 "cells": [
  {
   "cell_type": "markdown",
   "metadata": {},
   "source": [
    "# 作業目標:\n",
    "    寫出 ReLU & dReLU 一階導數\n",
    "    並列印\n"
   ]
  },
  {
   "cell_type": "markdown",
   "metadata": {},
   "source": [
    "# 作業重點\n",
    "\n",
    "# Rectified Linear Unit- Relu \n",
    "\n",
    "f(x)=max(0,x)\n"
   ]
  },
  {
   "cell_type": "code",
   "execution_count": 4,
   "metadata": {},
   "outputs": [],
   "source": [
    "import numpy as np\n",
    "from numpy import *\n",
    "import matplotlib.pylab as plt\n",
    "%matplotlib inline\n",
    "\n",
    "def Relu(x):\n",
    "    if x <= 0:\n",
    "        x = 0\n",
    "    return x\n",
    "\n",
    "# #x=np.arange(0,1.0,0.01)\n",
    "# x = plt.linspace(-5,5,100)\n",
    "\n",
    "# #resize the X and Y axes\n",
    "# plt.gca().xaxis.set_major_locator(plt.MultipleLocator(1))\n",
    "# #plt.gca().yaxis.set_major_locator(plt.MultipleLocator(1))\n",
    "\n",
    "# #列印所有Softmax 值並輸出成一陣列\n",
    "# # print(Relu(x))\n",
    "# plt.plot(x, Relu(x), 'r')\n",
    "# # plt.show()"
   ]
  },
  {
   "cell_type": "code",
   "execution_count": null,
   "metadata": {},
   "outputs": [],
   "source": []
  }
 ],
 "metadata": {
  "kernelspec": {
   "display_name": "Python 3",
   "language": "python",
   "name": "python3"
  },
  "language_info": {
   "codemirror_mode": {
    "name": "ipython",
    "version": 3
   },
   "file_extension": ".py",
   "mimetype": "text/x-python",
   "name": "python",
   "nbconvert_exporter": "python",
   "pygments_lexer": "ipython3",
   "version": "3.6.8"
  }
 },
 "nbformat": 4,
 "nbformat_minor": 2
}
